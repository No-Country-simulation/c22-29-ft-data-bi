{
 "cells": [
  {
   "cell_type": "code",
   "execution_count": 74,
   "metadata": {},
   "outputs": [],
   "source": [
    "import pandas as pd\n",
    "import numpy as np\n",
    "import matplotlib.pyplot as plt\n",
    "import seaborn as sns\n",
    "import openpyxl\n",
    "from sklearn.model_selection import train_test_split\n",
    "from sklearn.ensemble import RandomForestRegressor\n",
    "from sklearn.metrics import mean_squared_error, r2_score\n"
   ]
  },
  {
   "cell_type": "code",
   "execution_count": null,
   "metadata": {},
   "outputs": [],
   "source": [
    "# Cargar los datos \n",
    "beg_inv = pd.read_csv('BegInv12312016.csv')\n",
    "end_inv = pd.read_csv('EndInvFINAL12312016.csv')\n",
    "purchases = pd.read_csv('purchasesFINAL12312016.csv')"
   ]
  },
  {
   "cell_type": "code",
   "execution_count": 76,
   "metadata": {},
   "outputs": [
    {
     "name": "stdout",
     "output_type": "stream",
     "text": [
      "Index(['InventoryId', 'Store', 'City', 'Brand', 'Description', 'Size',\n",
      "       'onHand', 'Price', 'startDate'],\n",
      "      dtype='object') Index(['InventoryId', 'Store', 'City', 'Brand', 'Description', 'Size',\n",
      "       'onHand', 'Price', 'endDate'],\n",
      "      dtype='object') Index(['InventoryId', 'Store', 'Brand', 'Description', 'Size', 'VendorNumber',\n",
      "       'VendorName', 'PONumber', 'PODate', 'ReceivingDate', 'InvoiceDate',\n",
      "       'PayDate', 'PurchasePrice', 'Quantity', 'Dollars', 'Classification'],\n",
      "      dtype='object')\n"
     ]
    }
   ],
   "source": [
    "# Verificar las columnas cargadas\n",
    "print(beg_inv.columns, end_inv.columns, purchases.columns)"
   ]
  },
  {
   "cell_type": "code",
   "execution_count": 77,
   "metadata": {},
   "outputs": [],
   "source": [
    "# Combinar inventario inicial y final\n",
    "inventory_data = beg_inv.merge(\n",
    "    end_inv, \n",
    "    on=['InventoryId', 'Store', 'City', 'Brand', 'Description', 'Size'], \n",
    "    suffixes=('_start', '_end')\n",
    ")"
   ]
  },
  {
   "cell_type": "code",
   "execution_count": 78,
   "metadata": {},
   "outputs": [],
   "source": [
    "# Calcular el flujo neto del inventario\n",
    "inventory_data['net_change'] = inventory_data['onHand_end'] - inventory_data['onHand_start']"
   ]
  },
  {
   "cell_type": "code",
   "execution_count": 79,
   "metadata": {},
   "outputs": [],
   "source": [
    "# Agregar información de compras\n",
    "inventory_data = inventory_data.merge(\n",
    "    purchases, \n",
    "    on=['InventoryId', 'Store', 'Brand', 'Description', 'Size'], \n",
    "    how='left'\n",
    ")"
   ]
  },
  {
   "cell_type": "code",
   "execution_count": 80,
   "metadata": {},
   "outputs": [],
   "source": [
    "# Rellenar valores nulos en Quantity\n",
    "inventory_data['Quantity'] = inventory_data['Quantity'].fillna(0)"
   ]
  },
  {
   "cell_type": "code",
   "execution_count": 81,
   "metadata": {},
   "outputs": [],
   "source": [
    "# Convertir columnas de fechas a formato datetime\n",
    "inventory_data['startDate'] = pd.to_datetime(inventory_data['startDate'])\n",
    "inventory_data['endDate'] = pd.to_datetime(inventory_data['endDate'])\n",
    "inventory_data['PODate'] = pd.to_datetime(inventory_data['PODate'])"
   ]
  },
  {
   "cell_type": "code",
   "execution_count": 82,
   "metadata": {},
   "outputs": [],
   "source": [
    "# Calcular variables de tiempo\n",
    "inventory_data['inventory_duration_days'] = (inventory_data['endDate'] - inventory_data['startDate']).dt.days"
   ]
  },
  {
   "cell_type": "code",
   "execution_count": 83,
   "metadata": {},
   "outputs": [],
   "source": [
    "# Crear variable de compras totales por producto\n",
    "inventory_data['purchased_quantity'] = inventory_data['Quantity']"
   ]
  },
  {
   "cell_type": "code",
   "execution_count": 84,
   "metadata": {},
   "outputs": [],
   "source": [
    "# Crear el objetivo (target) basado en inventario final y compras\n",
    "inventory_data['target_stock_2017'] = (\n",
    "    inventory_data['onHand_end'] + inventory_data['purchased_quantity'] - inventory_data['net_change']\n",
    ")"
   ]
  },
  {
   "cell_type": "code",
   "execution_count": 85,
   "metadata": {},
   "outputs": [],
   "source": [
    "# Seleccionar columnas relevantes\n",
    "features = ['onHand_start', 'purchased_quantity', 'Price_start', 'inventory_duration_days','Brand']\n",
    "target = 'target_stock_2017'"
   ]
  },
  {
   "cell_type": "code",
   "execution_count": 86,
   "metadata": {},
   "outputs": [],
   "source": [
    "# Eliminar datos faltantes en las columnas seleccionadas\n",
    "inventory_data = inventory_data.dropna(subset=features + [target])"
   ]
  },
  {
   "cell_type": "code",
   "execution_count": 87,
   "metadata": {},
   "outputs": [],
   "source": [
    "X = inventory_data[features]\n",
    "y = inventory_data[target]\n",
    "\n",
    "# Dividir en conjunto de entrenamiento y prueba\n",
    "X_train, X_test, y_train, y_test = train_test_split(X, y, test_size=0.2, random_state=42)\n"
   ]
  },
  {
   "cell_type": "code",
   "execution_count": 88,
   "metadata": {},
   "outputs": [
    {
     "data": {
      "text/html": [
       "<style>#sk-container-id-3 {color: black;}#sk-container-id-3 pre{padding: 0;}#sk-container-id-3 div.sk-toggleable {background-color: white;}#sk-container-id-3 label.sk-toggleable__label {cursor: pointer;display: block;width: 100%;margin-bottom: 0;padding: 0.3em;box-sizing: border-box;text-align: center;}#sk-container-id-3 label.sk-toggleable__label-arrow:before {content: \"▸\";float: left;margin-right: 0.25em;color: #696969;}#sk-container-id-3 label.sk-toggleable__label-arrow:hover:before {color: black;}#sk-container-id-3 div.sk-estimator:hover label.sk-toggleable__label-arrow:before {color: black;}#sk-container-id-3 div.sk-toggleable__content {max-height: 0;max-width: 0;overflow: hidden;text-align: left;background-color: #f0f8ff;}#sk-container-id-3 div.sk-toggleable__content pre {margin: 0.2em;color: black;border-radius: 0.25em;background-color: #f0f8ff;}#sk-container-id-3 input.sk-toggleable__control:checked~div.sk-toggleable__content {max-height: 200px;max-width: 100%;overflow: auto;}#sk-container-id-3 input.sk-toggleable__control:checked~label.sk-toggleable__label-arrow:before {content: \"▾\";}#sk-container-id-3 div.sk-estimator input.sk-toggleable__control:checked~label.sk-toggleable__label {background-color: #d4ebff;}#sk-container-id-3 div.sk-label input.sk-toggleable__control:checked~label.sk-toggleable__label {background-color: #d4ebff;}#sk-container-id-3 input.sk-hidden--visually {border: 0;clip: rect(1px 1px 1px 1px);clip: rect(1px, 1px, 1px, 1px);height: 1px;margin: -1px;overflow: hidden;padding: 0;position: absolute;width: 1px;}#sk-container-id-3 div.sk-estimator {font-family: monospace;background-color: #f0f8ff;border: 1px dotted black;border-radius: 0.25em;box-sizing: border-box;margin-bottom: 0.5em;}#sk-container-id-3 div.sk-estimator:hover {background-color: #d4ebff;}#sk-container-id-3 div.sk-parallel-item::after {content: \"\";width: 100%;border-bottom: 1px solid gray;flex-grow: 1;}#sk-container-id-3 div.sk-label:hover label.sk-toggleable__label {background-color: #d4ebff;}#sk-container-id-3 div.sk-serial::before {content: \"\";position: absolute;border-left: 1px solid gray;box-sizing: border-box;top: 0;bottom: 0;left: 50%;z-index: 0;}#sk-container-id-3 div.sk-serial {display: flex;flex-direction: column;align-items: center;background-color: white;padding-right: 0.2em;padding-left: 0.2em;position: relative;}#sk-container-id-3 div.sk-item {position: relative;z-index: 1;}#sk-container-id-3 div.sk-parallel {display: flex;align-items: stretch;justify-content: center;background-color: white;position: relative;}#sk-container-id-3 div.sk-item::before, #sk-container-id-3 div.sk-parallel-item::before {content: \"\";position: absolute;border-left: 1px solid gray;box-sizing: border-box;top: 0;bottom: 0;left: 50%;z-index: -1;}#sk-container-id-3 div.sk-parallel-item {display: flex;flex-direction: column;z-index: 1;position: relative;background-color: white;}#sk-container-id-3 div.sk-parallel-item:first-child::after {align-self: flex-end;width: 50%;}#sk-container-id-3 div.sk-parallel-item:last-child::after {align-self: flex-start;width: 50%;}#sk-container-id-3 div.sk-parallel-item:only-child::after {width: 0;}#sk-container-id-3 div.sk-dashed-wrapped {border: 1px dashed gray;margin: 0 0.4em 0.5em 0.4em;box-sizing: border-box;padding-bottom: 0.4em;background-color: white;}#sk-container-id-3 div.sk-label label {font-family: monospace;font-weight: bold;display: inline-block;line-height: 1.2em;}#sk-container-id-3 div.sk-label-container {text-align: center;}#sk-container-id-3 div.sk-container {/* jupyter's `normalize.less` sets `[hidden] { display: none; }` but bootstrap.min.css set `[hidden] { display: none !important; }` so we also need the `!important` here to be able to override the default hidden behavior on the sphinx rendered scikit-learn.org. See: https://github.com/scikit-learn/scikit-learn/issues/21755 */display: inline-block !important;position: relative;}#sk-container-id-3 div.sk-text-repr-fallback {display: none;}</style><div id=\"sk-container-id-3\" class=\"sk-top-container\"><div class=\"sk-text-repr-fallback\"><pre>RandomForestRegressor(random_state=42)</pre><b>In a Jupyter environment, please rerun this cell to show the HTML representation or trust the notebook. <br />On GitHub, the HTML representation is unable to render, please try loading this page with nbviewer.org.</b></div><div class=\"sk-container\" hidden><div class=\"sk-item\"><div class=\"sk-estimator sk-toggleable\"><input class=\"sk-toggleable__control sk-hidden--visually\" id=\"sk-estimator-id-3\" type=\"checkbox\" checked><label for=\"sk-estimator-id-3\" class=\"sk-toggleable__label sk-toggleable__label-arrow\">RandomForestRegressor</label><div class=\"sk-toggleable__content\"><pre>RandomForestRegressor(random_state=42)</pre></div></div></div></div></div>"
      ],
      "text/plain": [
       "RandomForestRegressor(random_state=42)"
      ]
     },
     "execution_count": 88,
     "metadata": {},
     "output_type": "execute_result"
    }
   ],
   "source": [
    "# Crear el modelo\n",
    "model = RandomForestRegressor(n_estimators=100, random_state=42)\n",
    "\n",
    "# Entrenar el modelo\n",
    "model.fit(X_train, y_train)\n"
   ]
  },
  {
   "cell_type": "code",
   "execution_count": 89,
   "metadata": {},
   "outputs": [
    {
     "name": "stdout",
     "output_type": "stream",
     "text": [
      "Mean Squared Error (MSE): 0.8545301551466947\n",
      "R^2 Score: 0.9998292962700056\n"
     ]
    }
   ],
   "source": [
    "# Predicciones en el conjunto de prueba\n",
    "y_pred = model.predict(X_test)\n",
    "\n",
    "# Métricas de evaluación\n",
    "mse = mean_squared_error(y_test, y_pred)\n",
    "r2 = r2_score(y_test, y_pred)\n",
    "\n",
    "print(f\"Mean Squared Error (MSE): {mse}\")\n",
    "print(f\"R^2 Score: {r2}\")\n"
   ]
  },
  {
   "cell_type": "code",
   "execution_count": 90,
   "metadata": {},
   "outputs": [],
   "source": [
    "X_2017 = X_test.copy()\n",
    "\n",
    "# Simular cambios en las compras (si es necesario)\n",
    "X_2017['purchased_quantity'] *= 1.1\n",
    "X_2017['inventory_duration_days'] *= 1.05\n",
    "\n",
    "# Predecir el stock de 2017\n",
    "predicted_stock_2017 = model.predict(X_2017)\n",
    "X_2017['predicted_stock_2017'] = predicted_stock_2017\n"
   ]
  },
  {
   "cell_type": "code",
   "execution_count": 91,
   "metadata": {},
   "outputs": [
    {
     "name": "stdout",
     "output_type": "stream",
     "text": [
      "         onHand_start  purchased_quantity  Price_start  \\\n",
      "1611501           424                 7.7         9.95   \n",
      "563583             92                13.2        10.99   \n",
      "1098392            31                 3.3         6.99   \n",
      "236113             12                 0.0        11.99   \n",
      "1806023            27                 6.6        10.99   \n",
      "\n",
      "         inventory_duration_days  Brand  predicted_stock_2017  \n",
      "1611501                   383.25   6570                432.05  \n",
      "563583                    383.25  32906                105.00  \n",
      "1098392                   383.25   6349                 34.00  \n",
      "236113                    383.25  18800                 12.00  \n",
      "1806023                   383.25  44038                 34.00  \n"
     ]
    }
   ],
   "source": [
    "print(X_2017.head())\n"
   ]
  },
  {
   "cell_type": "code",
   "execution_count": 92,
   "metadata": {},
   "outputs": [
    {
     "data": {
      "image/png": "[encoded data removed]",
      "text/plain": [
       "<Figure size 1000x600 with 1 Axes>"
      ]
     },
     "metadata": {},
     "output_type": "display_data"
    }
   ],
   "source": [
    "plt.figure(figsize=(10, 6))\n",
    "sns.histplot(X_2017['predicted_stock_2017'], kde=True, bins=30, color='blue')\n",
    "plt.title('Distribución del Inventario Predicho para 2017')\n",
    "plt.xlabel('Inventario Predicho')\n",
    "plt.ylabel('Frecuencia')\n",
    "plt.show()\n"
   ]
  },
  {
   "cell_type": "code",
   "execution_count": 96,
   "metadata": {},
   "outputs": [
    {
     "name": "stdout",
     "output_type": "stream",
     "text": [
      "Predicciones guardadas en el archivo: predicted_stock_2017.xlsx\n"
     ]
    }
   ],
   "source": [
    "# Especificar las columnas que quieres incluir\n",
    "output_data = X_2017[\n",
    "    ['onHand_start', 'purchased_quantity', 'Price_start', \n",
    "     'inventory_duration_days','Brand', 'predicted_stock_2017']\n",
    "]\n",
    "\n",
    "# Exportar a un archivo Excel\n",
    "output_file = 'predicted_stock_2017.xlsx'\n",
    "output_data.to_excel(output_file, index=False)\n",
    "\n",
    "print(f\"Predicciones guardadas en el archivo: {output_file}\")\n"
   ]
  },
  {
   "cell_type": "code",
   "execution_count": 94,
   "metadata": {},
   "outputs": [
    {
     "name": "stdout",
     "output_type": "stream",
     "text": [
      "Index(['onHand_start', 'purchased_quantity', 'Price_start',\n",
      "       'inventory_duration_days', 'Brand', 'predicted_stock_2017'],\n",
      "      dtype='object')\n"
     ]
    }
   ],
   "source": [
    "print(X_2017.columns)\n",
    "\n"
   ]
  }
 ],
 "metadata": {
  "kernelspec": {
   "display_name": "Python 3 (ipykernel)",
   "language": "python",
   "name": "python3"
  },
  "language_info": {
   "codemirror_mode": {
    "name": "ipython",
    "version": 3
   },
   "file_extension": ".py",
   "mimetype": "text/x-python",
   "name": "python",
   "nbconvert_exporter": "python",
   "pygments_lexer": "ipython3",
   "version": "3.12.4"
  }
 },
 "nbformat": 4,
 "nbformat_minor": 4
}
